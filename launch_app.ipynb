{
 "cells": [
  {
   "cell_type": "markdown",
   "id": "53b74bb6-8659-490f-b0db-16bbc6babfa1",
   "metadata": {
    "tags": []
   },
   "source": [
    "[![Open In SageMaker Studio Lab](https://studiolab.sagemaker.aws/studiolab.svg)](https://studiolab.sagemaker.aws/import/github/machinelearnear/sd-dreambooth-training-in-studiolab/blob/main/launch_app.ipynb)"
   ]
  },
  {
   "cell_type": "markdown",
   "id": "261a11ab-2952-4901-a5ee-99a090dc13ed",
   "metadata": {
    "tags": []
   },
   "source": [
    "# SD V2 Dreambooth training with d🧨ffusers in SageMaker Studio Lab\n",
    "- https://huggingface.co/spaces/multimodalart/dreambooth-training\n",
    "- https://github.com/machinelearnear/open-hf-spaces-in-studiolab"
   ]
  },
  {
   "cell_type": "code",
   "execution_count": 1,
   "id": "f9d0551c-d2fe-4cfe-b018-4c61349b1c5e",
   "metadata": {},
   "outputs": [],
   "source": [
    "from helper import RepoHandler"
   ]
  },
  {
   "cell_type": "code",
   "execution_count": 2,
   "id": "20787388-0d6f-4074-9665-9d00b68a5559",
   "metadata": {},
   "outputs": [],
   "source": [
    "domain = 'luzdatd5d7fmka0'\n",
    "region = 'us-east-2'"
   ]
  },
  {
   "cell_type": "code",
   "execution_count": 3,
   "id": "bb3788bd-e5cd-4430-a127-dfb01bea9e69",
   "metadata": {},
   "outputs": [
    {
     "name": "stdout",
     "output_type": "stream",
     "text": [
      "\u001b[1mRunning on SageMaker Studio Lab or locally\u001b[0m\n"
     ]
    }
   ],
   "source": [
    "app = RepoHandler(\n",
    "    repo_url='https://huggingface.co/spaces/multimodalart/dreambooth-training'\n",
    ")"
   ]
  },
  {
   "cell_type": "code",
   "execution_count": 4,
   "id": "b1aa8f92-1ae0-4413-8206-ee83f107e4b6",
   "metadata": {},
   "outputs": [
    {
     "name": "stdout",
     "output_type": "stream",
     "text": [
      "Repository dreambooth-training has already been cloned.\n",
      "Looking in indexes: https://pypi.org/simple, https://download.pytorch.org/whl/cu113\n",
      "Collecting torch==1.12.1+cu113\n",
      "  Downloading https://download.pytorch.org/whl/cu113/torch-1.12.1%2Bcu113-cp39-cp39-linux_x86_64.whl (1837.7 MB)\n"
     ]
    },
    {
     "name": "stderr",
     "output_type": "stream",
     "text": [
      "\n",
      "KeyboardInterrupt\n",
      "\n"
     ]
    }
   ],
   "source": [
    "app.clone_repo()\n",
    "app.install_requirements(\n",
    "    requirements_file=\"requirements-local.txt\",\n",
    "    install_xformers=True\n",
    ")"
   ]
  },
  {
   "cell_type": "code",
   "execution_count": null,
   "id": "4ebf9889-31a4-46e2-8a50-23511fbdb410",
   "metadata": {},
   "outputs": [],
   "source": [
    "app.run_web_demo(domain, region)"
   ]
  }
 ],
 "metadata": {
  "kernelspec": {
   "display_name": "machinelearnear-hf-spaces:Python",
   "language": "python",
   "name": "conda-env-machinelearnear-hf-spaces-py"
  },
  "language_info": {
   "codemirror_mode": {
    "name": "ipython",
    "version": 3
   },
   "file_extension": ".py",
   "mimetype": "text/x-python",
   "name": "python",
   "nbconvert_exporter": "python",
   "pygments_lexer": "ipython3",
   "version": "3.9.15"
  }
 },
 "nbformat": 4,
 "nbformat_minor": 5
}
